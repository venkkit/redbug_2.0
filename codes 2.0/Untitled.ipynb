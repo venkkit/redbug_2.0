{
 "cells": [
  {
   "cell_type": "code",
   "execution_count": null,
   "id": "fbaf2a62",
   "metadata": {},
   "outputs": [],
   "source": [
    "def slip(num,cus):\n",
    "    img = Image.open('input/slip8.jpeg')\n",
    "    d1 = ImageDraw.Draw(img)\n",
    "    myFont = ImageFont.truetype('input/font/KGBlankSpaceSketch.ttf', 75)\n",
    "    myFont1 = ImageFont.truetype('Arial', 50)\n",
    "    nums = str(num)\n",
    "    \n",
    "    # to eliminate the empty names\n",
    "    k = str(cus)\n",
    "    if k == \"nan\":\n",
    "        cus = \"  \"\n",
    "    else:\n",
    "        print()\n",
    "    \n",
    "    d1.text((750, 375),str(cus),(0,0,0),anchor=\"mm\",font=myFont,align='centre')\n",
    "    d1.text((1265, 90),\"#\"+nums,(0,0,0),font=myFont1,align='centre')\n",
    "   # img.show()\n",
    "    img.save(\"output/images/\"+nums+\".jpg\")\n",
    "    "
   ]
  },
  {
   "cell_type": "code",
   "execution_count": null,
   "id": "0af7e7d6",
   "metadata": {},
   "outputs": [],
   "source": []
  },
  {
   "cell_type": "code",
   "execution_count": null,
   "id": "72aca374",
   "metadata": {},
   "outputs": [],
   "source": []
  },
  {
   "cell_type": "code",
   "execution_count": 51,
   "id": "765c5373",
   "metadata": {},
   "outputs": [],
   "source": [
    "# %%\n",
    "# Importing the PIL library\n",
    "from PIL import Image\n",
    "from PIL import ImageDraw\n",
    "from PIL import ImageFont\n",
    "import pandas as pd\n",
    "import math\n",
    "\n",
    "import numpy as np\n",
    "import os\n",
    "\n",
    "\n",
    "\n",
    "if not os.path.exists('output/images'):\n",
    "   os.makedirs('output/images')"
   ]
  },
  {
   "cell_type": "code",
   "execution_count": null,
   "id": "fbc6f478",
   "metadata": {},
   "outputs": [],
   "source": []
  },
  {
   "cell_type": "code",
   "execution_count": 52,
   "id": "aa25abf4",
   "metadata": {},
   "outputs": [
    {
     "name": "stdout",
     "output_type": "stream",
     "text": [
      "\n"
     ]
    }
   ],
   "source": [
    "num = 2\n",
    "cus = \"venkki\"\n",
    "c_tag = \"food donation\"\n",
    "msg = \"with love from\"\n",
    "\n",
    "\n",
    "img = Image.open('input/custom8.jpeg')\n",
    "d1 = ImageDraw.Draw(img)\n",
    "myFont = ImageFont.truetype('input/font/KGBlankSpaceSketch.ttf', 75)\n",
    "myFont1 = ImageFont.truetype('Arial', 50)\n",
    "Font_tag = ImageFont.truetype('input/font/arial.ttf', 23)\n",
    "Font_msg = ImageFont.truetype('input/font/futura_m.ttf', 42)\n",
    "\n",
    "nums = str(num)\n",
    "\n",
    "# to eliminate the empty names\n",
    "k = str(cus)\n",
    "if k == \"nan\":\n",
    "    cus = \"  \"\n",
    "else:\n",
    "    print()\n",
    "\n",
    "d1.text((750, 375),str(cus),(0,0,0),anchor=\"mm\",font=myFont,align='centre')\n",
    "d1.text((1265, 90),\"#\"+nums,(0,0,0),font=myFont1,align='centre')\n",
    "d1.text((680, 65),\"\"+c_tag,(0,0,0),font=Font_tag,align='centre')\n",
    "d1.text((745, 150),str(msg),(0,0,0),anchor=\"mm\",font=Font_msg,align='centre')\n",
    "img.show()\n",
    "#img.save(\"output/images/\"+nums+\".jpg\")"
   ]
  },
  {
   "cell_type": "code",
   "execution_count": null,
   "id": "9f426047",
   "metadata": {},
   "outputs": [],
   "source": []
  },
  {
   "cell_type": "code",
   "execution_count": null,
   "id": "36eaf01d",
   "metadata": {},
   "outputs": [],
   "source": []
  },
  {
   "cell_type": "code",
   "execution_count": 39,
   "id": "fb76e6c6",
   "metadata": {},
   "outputs": [
    {
     "name": "stdout",
     "output_type": "stream",
     "text": [
      "\n"
     ]
    }
   ],
   "source": [
    "num = 2\n",
    "cus = \"venkki\"\n",
    "c_tag = \"Education\"\n",
    "msg = \"with love from\"\n",
    "\n",
    "\n",
    "img = Image.open('input/slip6.jpeg')\n",
    "d1 = ImageDraw.Draw(img)\n",
    "myFont = ImageFont.truetype('input/font/KGBlankSpaceSketch.ttf', 50)\n",
    "myFont1 = ImageFont.truetype('input/font/arial.ttf', 45)\n",
    "Font_tag = ImageFont.truetype('input/font/arial.ttf', 15)\n",
    "Font_msg = ImageFont.truetype('input/font/futura_m.ttf', 33)\n",
    "\n",
    "\n",
    "nums = str(num)\n",
    "\n",
    "# to eliminate the empty names\n",
    "k = str(cus)\n",
    "if k == \"nan\":\n",
    "    cus = \"  \"\n",
    "else:\n",
    "    print()\n",
    "\n",
    "d1.text((400, 300),str(cus),(0,0,0),anchor=\"mm\",font=myFont)\n",
    "d1.text((655, 50),\"#\"+nums,(0,0,0),font=myFont1,align='centre')\n",
    "d1.text((380, 30),\"#\"+c_tag,(0,0,0),font=Font_tag,align='centre')\n",
    "d1.text((402, 115),str(msg),(0,0,0),anchor=\"mm\",font=Font_msg,align='centre')\n",
    "\n",
    "img.show()\n",
    "#img.save(\"output/images/\"+nums+\".jpg\")"
   ]
  },
  {
   "cell_type": "code",
   "execution_count": null,
   "id": "c20fe91d",
   "metadata": {},
   "outputs": [],
   "source": []
  },
  {
   "cell_type": "code",
   "execution_count": null,
   "id": "44329fed",
   "metadata": {},
   "outputs": [],
   "source": []
  },
  {
   "cell_type": "code",
   "execution_count": null,
   "id": "ccb3c1b8",
   "metadata": {},
   "outputs": [],
   "source": []
  }
 ],
 "metadata": {
  "kernelspec": {
   "display_name": "Python 3 (ipykernel)",
   "language": "python",
   "name": "python3"
  },
  "language_info": {
   "codemirror_mode": {
    "name": "ipython",
    "version": 3
   },
   "file_extension": ".py",
   "mimetype": "text/x-python",
   "name": "python",
   "nbconvert_exporter": "python",
   "pygments_lexer": "ipython3",
   "version": "3.9.12"
  }
 },
 "nbformat": 4,
 "nbformat_minor": 5
}
